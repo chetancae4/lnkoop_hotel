{
 "cells": [
  {
   "cell_type": "code",
   "execution_count": 1,
   "metadata": {},
   "outputs": [
    {
     "data": {
      "text/html": [
       "<div>\n",
       "<style scoped>\n",
       "    .dataframe tbody tr th:only-of-type {\n",
       "        vertical-align: middle;\n",
       "    }\n",
       "\n",
       "    .dataframe tbody tr th {\n",
       "        vertical-align: top;\n",
       "    }\n",
       "\n",
       "    .dataframe thead th {\n",
       "        text-align: right;\n",
       "    }\n",
       "</style>\n",
       "<table border=\"1\" class=\"dataframe\">\n",
       "  <thead>\n",
       "    <tr style=\"text-align: right;\">\n",
       "      <th></th>\n",
       "      <th>Sr. No.</th>\n",
       "      <th>Hotel Code</th>\n",
       "      <th>State</th>\n",
       "      <th>Cost</th>\n",
       "      <th>Ratings</th>\n",
       "    </tr>\n",
       "  </thead>\n",
       "  <tbody>\n",
       "    <tr>\n",
       "      <th>0</th>\n",
       "      <td>1</td>\n",
       "      <td>TN68367619</td>\n",
       "      <td>Tamilnadu</td>\n",
       "      <td>720</td>\n",
       "      <td>4.6</td>\n",
       "    </tr>\n",
       "    <tr>\n",
       "      <th>1</th>\n",
       "      <td>2</td>\n",
       "      <td>MH84778017</td>\n",
       "      <td>Maharashtra</td>\n",
       "      <td>560</td>\n",
       "      <td>5.4</td>\n",
       "    </tr>\n",
       "    <tr>\n",
       "      <th>2</th>\n",
       "      <td>3</td>\n",
       "      <td>TN11397489</td>\n",
       "      <td>Tamilnadu</td>\n",
       "      <td>1760</td>\n",
       "      <td>9.3</td>\n",
       "    </tr>\n",
       "    <tr>\n",
       "      <th>3</th>\n",
       "      <td>4</td>\n",
       "      <td>MH09379534</td>\n",
       "      <td>Maharashtra</td>\n",
       "      <td>680</td>\n",
       "      <td>9.8</td>\n",
       "    </tr>\n",
       "    <tr>\n",
       "      <th>4</th>\n",
       "      <td>5</td>\n",
       "      <td>TN01526325</td>\n",
       "      <td>Tamilnadu</td>\n",
       "      <td>560</td>\n",
       "      <td>2.8</td>\n",
       "    </tr>\n",
       "  </tbody>\n",
       "</table>\n",
       "</div>"
      ],
      "text/plain": [
       "   Sr. No.  Hotel Code        State  Cost  Ratings\n",
       "0        1  TN68367619    Tamilnadu   720      4.6\n",
       "1        2  MH84778017  Maharashtra   560      5.4\n",
       "2        3  TN11397489    Tamilnadu  1760      9.3\n",
       "3        4  MH09379534  Maharashtra   680      9.8\n",
       "4        5  TN01526325    Tamilnadu   560      2.8"
      ]
     },
     "execution_count": 1,
     "metadata": {},
     "output_type": "execute_result"
    }
   ],
   "source": [
    "import pandas as pd\n",
    "df=pd.read_csv('hotels.csv')\n",
    "df.head()"
   ]
  },
  {
   "cell_type": "code",
   "execution_count": 2,
   "metadata": {},
   "outputs": [
    {
     "data": {
      "text/plain": [
       "array(['Tamilnadu', 'Maharashtra', 'Karnataka'], dtype=object)"
      ]
     },
     "execution_count": 2,
     "metadata": {},
     "output_type": "execute_result"
    }
   ],
   "source": [
    "df.State.unique()"
   ]
  },
  {
   "cell_type": "code",
   "execution_count": 4,
   "metadata": {},
   "outputs": [
    {
     "name": "stdout",
     "output_type": "stream",
     "text": [
      "select state name\n",
      "aviable options are ['Tamilnadu', 'Maharashtra', 'Karnataka']Maharashtra\n",
      "select rating or costrating\n",
      "select operation\n",
      "aviable options are,['high','cheap','avg'] high\n",
      "10.0\n"
     ]
    }
   ],
   "source": [
    "print(\"select state name\")\n",
    "state_name=input(\"aviable options are ['Tamilnadu', 'Maharashtra', 'Karnataka']\")\n",
    "rating_or_cost=input(\"select rating or cost\")\n",
    "print(\"select operation\")\n",
    "operation=input(\"aviable options are,['high','cheap','avg'] \")\n",
    "m1=df['State']==state_name\n",
    "state_table=df[m1]\n",
    "length_of_state_table=len(state_table)\n",
    "if rating_or_cost=='rating':\n",
    "    if operation=='cheap':\n",
    "        m2=df['Ratings'].min()\n",
    "        print(m2)\n",
    "    if operation=='high':\n",
    "        m2=df['Ratings'].max()\n",
    "        print(m2)\n",
    "    if operation=='avg':\n",
    "        m2=df['Ratings'].sum()\n",
    "        print(m2/length_of_state_table)\n",
    "if rating_or_cost=='Cost':\n",
    "    if operation=='cheap':\n",
    "        m2=df['Cost'].min()\n",
    "        print(m2)\n",
    "    if operation=='high':\n",
    "        m2=df['Cost'].max()\n",
    "        print(m2)\n",
    "    if operation=='avg':\n",
    "        m2=df['Cost'].sum()\n",
    "        p=m2/length_of_state_table\n",
    "        print(p)\n",
    "    "
   ]
  },
  {
   "cell_type": "code",
   "execution_count": null,
   "metadata": {},
   "outputs": [],
   "source": []
  },
  {
   "cell_type": "code",
   "execution_count": null,
   "metadata": {},
   "outputs": [],
   "source": []
  },
  {
   "cell_type": "code",
   "execution_count": null,
   "metadata": {},
   "outputs": [],
   "source": []
  }
 ],
 "metadata": {
  "kernelspec": {
   "display_name": "Python 3",
   "language": "python",
   "name": "python3"
  },
  "language_info": {
   "codemirror_mode": {
    "name": "ipython",
    "version": 3
   },
   "file_extension": ".py",
   "mimetype": "text/x-python",
   "name": "python",
   "nbconvert_exporter": "python",
   "pygments_lexer": "ipython3",
   "version": "3.8.2"
  }
 },
 "nbformat": 4,
 "nbformat_minor": 4
}
